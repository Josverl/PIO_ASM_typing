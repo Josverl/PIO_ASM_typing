{
 "cells": [
  {
   "cell_type": "markdown",
   "metadata": {},
   "source": [
    "https://www.artima.com/weblogs/viewpost.jsp?thread=240845#decorator-functions-with-decorator-arguments\n",
    "\n"
   ]
  },
  {
   "cell_type": "code",
   "execution_count": 1,
   "metadata": {},
   "outputs": [
    {
     "name": "stdout",
     "output_type": "stream",
     "text": [
      "Entering func1\n",
      "inside func1()\n",
      "Exited func1\n",
      "Entering func2\n",
      "inside func2()\n",
      "Exited func2\n"
     ]
    }
   ],
   "source": [
    "class entryExit(object):\n",
    "    def __init__(self, f):\n",
    "        self.f = f\n",
    "\n",
    "    def __call__(self):\n",
    "        print(\"Entering\", self.f.__name__)\n",
    "        self.f()\n",
    "        print(\"Exited\", self.f.__name__)\n",
    "\n",
    "\n",
    "@entryExit\n",
    "def func1():\n",
    "    print(\"inside func1()\")\n",
    "\n",
    "\n",
    "@entryExit\n",
    "def func2():\n",
    "    print(\"inside func2()\")\n",
    "\n",
    "\n",
    "func1()\n",
    "func2()"
   ]
  },
  {
   "cell_type": "code",
   "execution_count": 2,
   "metadata": {},
   "outputs": [
    {
     "name": "stdout",
     "output_type": "stream",
     "text": [
      "Inside wrap()\n",
      "After decoration\n",
      "Preparing to call sayHello()\n",
      "Inside wrapped_f()\n",
      "Decorator arguments: hello world 42\n",
      "sayHello arguments: say hello argument list\n",
      "After f(*args)\n",
      "after first sayHello() call\n",
      "Inside wrapped_f()\n",
      "Decorator arguments: hello world 42\n",
      "sayHello arguments: a different set of arguments\n",
      "After f(*args)\n",
      "after second sayHello() call\n"
     ]
    }
   ],
   "source": [
    "def decoratorFunctionWithArguments(arg1, arg2, arg3):\n",
    "    def wrap(f):\n",
    "        print(\"Inside wrap()\")\n",
    "\n",
    "        def wrapped_f(*args):\n",
    "            print(\"Inside wrapped_f()\")\n",
    "            print(\"Decorator arguments:\", arg1, arg2, arg3)\n",
    "            f(*args)\n",
    "            print(\"After f(*args)\")\n",
    "\n",
    "        return wrapped_f\n",
    "\n",
    "    return wrap\n",
    "\n",
    "\n",
    "@decoratorFunctionWithArguments(\"hello\", \"world\", 42)\n",
    "def sayHello(a1, a2, a3, a4):\n",
    "    print(\"sayHello arguments:\", a1, a2, a3, a4)\n",
    "\n",
    "\n",
    "print(\"After decoration\")\n",
    "\n",
    "print(\"Preparing to call sayHello()\")\n",
    "sayHello(\"say\", \"hello\", \"argument\", \"list\")\n",
    "print(\"after first sayHello() call\")\n",
    "sayHello(\"a\", \"different\", \"set of\", \"arguments\")\n",
    "print(\"after second sayHello() call\")"
   ]
  },
  {
   "cell_type": "code",
   "execution_count": 8,
   "metadata": {},
   "outputs": [
    {
     "name": "stdout",
     "output_type": "stream",
     "text": [
      "Decorator arguments: 0\n",
      "Inside wrapped_f()\n",
      "IRQ(3)\n",
      "NOP\n",
      "After f(*args)\n"
     ]
    },
    {
     "ename": "NameError",
     "evalue": "name 'nop' is not defined",
     "output_type": "error",
     "traceback": [
      "\u001b[1;31m---------------------------------------------------------------------------\u001b[0m",
      "\u001b[1;31mNameError\u001b[0m                                 Traceback (most recent call last)",
      "\u001b[1;32mUntitled-1.ipynb Cell 4\u001b[0m line \u001b[0;36m2\n\u001b[0;32m     <a href='vscode-notebook-cell:Untitled-1.ipynb?jupyter-notebook#W3sdW50aXRsZWQ%3D?line=24'>25</a>\u001b[0m     nop()\n\u001b[0;32m     <a href='vscode-notebook-cell:Untitled-1.ipynb?jupyter-notebook#W3sdW50aXRsZWQ%3D?line=26'>27</a>\u001b[0m blink_1hz()\n\u001b[1;32m---> <a href='vscode-notebook-cell:Untitled-1.ipynb?jupyter-notebook#W3sdW50aXRsZWQ%3D?line=28'>29</a>\u001b[0m nop()\n",
      "\u001b[1;31mNameError\u001b[0m: name 'nop' is not defined"
     ]
    }
   ],
   "source": [
    "def pio_asm_nop() -> None:\n",
    "    print(\"NOP\")\n",
    "\n",
    "\n",
    "def pio_asm_irq(num) -> None:\n",
    "    print(f\"IRQ({num})\")\n",
    "\n",
    "\n",
    "def jos_pio(set_init=3):\n",
    "    def wrap(f):\n",
    "        def wrapped_f(*args):\n",
    "            print(\"Decorator arguments:\", set_init)\n",
    "            f.__globals__[\"nop\"] = pio_asm_nop\n",
    "            f.__globals__[\"irq\"] = pio_asm_irq\n",
    "            print(\"Inside wrapped_f()\")\n",
    "            f(*args)\n",
    "            print(\"After f(*args)\")\n",
    "            del f.__globals__[\"nop\"]\n",
    "            del f.__globals__[\"irq\"]\n",
    "\n",
    "        return wrapped_f\n",
    "\n",
    "    return wrap\n",
    "\n",
    "\n",
    "@jos_pio(set_init=0)\n",
    "def blink_1hz():\n",
    "    # Cycles: 1 + 1 + 6 + 32 * (30 + 1) = 1000\n",
    "    irq(3)\n",
    "    nop()\n",
    "\n",
    "\n",
    "blink_1hz()\n",
    "\n",
    "nop()"
   ]
  },
  {
   "cell_type": "code",
   "execution_count": 12,
   "metadata": {},
   "outputs": [
    {
     "ename": "NameError",
     "evalue": "name 'T' is not defined",
     "output_type": "error",
     "traceback": [
      "\u001b[1;31m---------------------------------------------------------------------------\u001b[0m",
      "\u001b[1;31mNameError\u001b[0m                                 Traceback (most recent call last)",
      "\u001b[1;32mUntitled-1.ipynb Cell 5\u001b[0m line \u001b[0;36m8\n\u001b[0;32m      <a href='vscode-notebook-cell:Untitled-1.ipynb?jupyter-notebook#W4sdW50aXRsZWQ%3D?line=3'>4</a>\u001b[0m \u001b[39m@dataclass\u001b[39m\n\u001b[0;32m      <a href='vscode-notebook-cell:Untitled-1.ipynb?jupyter-notebook#W4sdW50aXRsZWQ%3D?line=4'>5</a>\u001b[0m \u001b[39mclass\u001b[39;00m \u001b[39mMaxLen\u001b[39;00m:\n\u001b[0;32m      <a href='vscode-notebook-cell:Untitled-1.ipynb?jupyter-notebook#W4sdW50aXRsZWQ%3D?line=5'>6</a>\u001b[0m     value: \u001b[39mint\u001b[39m\n\u001b[1;32m----> <a href='vscode-notebook-cell:Untitled-1.ipynb?jupyter-notebook#W4sdW50aXRsZWQ%3D?line=7'>8</a>\u001b[0m Vec[T] \u001b[39m=\u001b[39m Annotated[\u001b[39mlist\u001b[39m[\u001b[39mtuple\u001b[39m[T, T]], MaxLen(\u001b[39m10\u001b[39m)]\n\u001b[0;32m     <a href='vscode-notebook-cell:Untitled-1.ipynb?jupyter-notebook#W4sdW50aXRsZWQ%3D?line=9'>10</a>\u001b[0m v1 \u001b[39m=\u001b[39m Vec[\u001b[39mint\u001b[39m]([(\u001b[39m1\u001b[39m, \u001b[39m2\u001b[39m), (\u001b[39m3\u001b[39m, \u001b[39m4\u001b[39m)])\n\u001b[0;32m     <a href='vscode-notebook-cell:Untitled-1.ipynb?jupyter-notebook#W4sdW50aXRsZWQ%3D?line=10'>11</a>\u001b[0m \u001b[39mprint\u001b[39m(v1)\n",
      "\u001b[1;31mNameError\u001b[0m: name 'T' is not defined"
     ]
    }
   ],
   "source": [
    "from typing import Annotated\n",
    "from dataclasses import dataclass\n",
    "\n",
    "@dataclass\n",
    "class MaxLen:\n",
    "    value: int\n",
    "\n",
    "type Vec[T] = Annotated[list[tuple[T, T]], MaxLen(10)]\n",
    "\n",
    "# When used in a type annotation, a type checker will treat \"V\" the same as\n",
    "# ``Annotated[list[tuple[int, int]], MaxLen(10)]``:\n",
    "type V = Vec[int]"
   ]
  }
 ],
 "metadata": {
  "kernelspec": {
   "display_name": ".venv",
   "language": "python",
   "name": "python3"
  },
  "language_info": {
   "codemirror_mode": {
    "name": "ipython",
    "version": 3
   },
   "file_extension": ".py",
   "mimetype": "text/x-python",
   "name": "python",
   "nbconvert_exporter": "python",
   "pygments_lexer": "ipython3",
   "version": "3.11.6"
  }
 },
 "nbformat": 4,
 "nbformat_minor": 2
}
